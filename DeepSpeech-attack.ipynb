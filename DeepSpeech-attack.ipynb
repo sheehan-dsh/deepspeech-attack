{
 "cells": [
  {
   "cell_type": "code",
   "execution_count": 1,
   "metadata": {},
   "outputs": [],
   "source": [
    "#下载模型，并解压\n",
    "#wget https://github.com/mozilla/DeepSpeech/releases/download/v0.1.0/deepspeech-0.1.0-models.tar.gz\n",
    "#tar xvfz deepspeech-0.1.0-models.tar.gz\n",
    "import numpy as np\n",
    "import tensorflow as tf\n",
    "import argparse\n",
    "from shutil import copyfile\n",
    "#没有deepspeech 请先pip install deepspeech\n",
    "import deepspeech\n",
    "import scipy.io.wavfile as wav\n",
    "import wave\n",
    "import struct\n",
    "import time\n",
    "import os\n",
    "import sys\n",
    "import matplotlib.pyplot as plt\n"
   ]
  },
  {
   "cell_type": "code",
   "execution_count": 2,
   "metadata": {
    "scrolled": true
   },
   "outputs": [
    {
     "name": "stdout",
     "output_type": "stream",
     "text": [
      "16193 [16000, 16000, 16000]\n"
     ]
    },
    {
     "data": {
      "image/png": "[encoded data removed]",
      "text/plain": [
       "<Figure size 432x288 with 3 Axes>"
      ]
     },
     "metadata": {
      "needs_background": "light"
     },
     "output_type": "display_data"
    }
   ],
   "source": [
    "BEAM_WIDTH = 1024\n",
    "N_FEATURES = 26\n",
    "N_CONTEXT = 9\n",
    "modelPath = './models/output_graph.pbmm'\n",
    "alphabetPath = './models/alphabet.txt'\n",
    "model = deepspeech.Model(modelPath, N_FEATURES, N_CONTEXT, alphabetPath, BEAM_WIDTH)\n",
    "#print(model)\n",
    "LM_ALPHA = 0.75\n",
    "LM_BETA = 1.85\n",
    "lmPath = './models/lm.binary'\n",
    "triePath = './models/trie'\n",
    "a = model.enableDecoderWithLM(alphabetPath, lmPath, triePath, LM_ALPHA, LM_BETA)\n",
    "#fin = wave.open('english.wav','rb')\n",
    "\n",
    "fs1,audios1 = wav.read('english.wav','rb')\n",
    "fs2,audios2 = wav.read('english2.wav','rb')\n",
    "fs3,audios3 = wav.read('example.wav','rb')\n",
    "fs_list = [fs1,fs2,fs3]\n",
    "audios_list = [list(audios1),list(audios2),list(audios3)]\n",
    "len_list = [len(audios1),len(audios2),len(audios3)]\n",
    "maxlen = max(len_list)\n",
    "audios_list = np.array([x+[0]*(maxlen-len(x)) for x in audios_list])\n",
    "#fs = fin.getframerate()\n",
    "#audio = np.frombuffer(fin.readframes(fin.getnframes()), np.int16)\n",
    "#audio_length = fin.getnframes() * (1/16000)\n",
    "print(maxlen,fs_list)\n",
    "#fin.close()\n",
    "#print(model.stt(audios,fs))\n",
    "for i in range(len(audios_list)):\n",
    "    ax = plt.subplot(3,1,i+1)\n",
    "    ax.plot(audios_list[i])"
   ]
  },
  {
   "cell_type": "code",
   "execution_count": 4,
   "metadata": {},
   "outputs": [],
   "source": [
    "batch_size = 1\n",
    "phrase_length = 10\n",
    "max_audio_len = maxlen\n",
    "fs =16000\n",
    "noise = tf.Variable(tf.random_normal((batch_size, max_audio_len), dtype=np.float32), name='delta')\n",
    "#mask = tf.Variable(tf.random_normal((batch_size, max_audio_len), dtype=np.float32), name='mask')\n",
    "original = tf.Variable(np.zeros((batch_size, max_audio_len), dtype=np.float32), name='original')\n",
    "#rescale = tf.Variable(tf.random_normal((batch_size,1), dtype=np.float32), name='rescale')"
   ]
  },
  {
   "cell_type": "code",
   "execution_count": 8,
   "metadata": {},
   "outputs": [],
   "source": [
    "#在工作目录下创建result文件夹\n",
    "import os\n",
    "model_dir = './result/'\n",
    "if not os.path.exists(model_dir):\n",
    "    os.makedirs(model_dir)"
   ]
  },
  {
   "cell_type": "code",
   "execution_count": 5,
   "metadata": {},
   "outputs": [],
   "source": [
    "def speech_attack(audios_list,n,num):    \n",
    "    with tf.Session() as sess:\n",
    "        sess.run(tf.global_variables_initializer())\n",
    "        #noise = tf.random_normal(mask.shape,stddev=2)\n",
    "        #apply_delta = tf.clip_by_value(delta*10, -2000, 2000)*rescale\n",
    "        ans = []\n",
    "        for i in range(len(audios_list)):\n",
    "            audios = audios_list[i]\n",
    "            audio = audios.reshape((1,-1))\n",
    "            origin = original.assign(np.array(audio))\n",
    "            new_input =  origin \n",
    "            pass_in = tf.clip_by_value(new_input+noise*n, -2**15, 2**15-1)\n",
    "            result = sess.run(pass_in)\n",
    "            result = result.reshape((-1,))\n",
    "            result = result.astype('int16')\n",
    "            ans.append(model.stt(result,fs))\n",
    "            path = './result/result_'+ str(num)+'_'+str(i)+'.wav'\n",
    "            wav.write(path, 16000,np.array(np.clip(np.round(result),-2**15, 2**15-1)))\n",
    "        print(ans)"
   ]
  },
  {
   "cell_type": "code",
   "execution_count": 9,
   "metadata": {},
   "outputs": [
    {
     "name": "stdout",
     "output_type": "stream",
     "text": [
      "['english', 'english', 'example']\n",
      "['english', 'english', 'example']\n",
      "['english', 'things', 'example']\n",
      "['english', 'thinketh', 'example']\n",
      "['english', 'things is', 'example']\n",
      "['hinglish', 'things is', 'some of']\n",
      "['english', 'seems to', 'come for']\n",
      "['things lest', 'things have', 'he found for']\n",
      "['things less', 'seems as', 'some']\n",
      "['in less', 'things are', 'he said for']\n"
     ]
    }
   ],
   "source": [
    "for i in range(10):\n",
    "    speech_attack(audios_list,i*100,i)"
   ]
  },
  {
   "cell_type": "code",
   "execution_count": null,
   "metadata": {},
   "outputs": [],
   "source": []
  }
 ],
 "metadata": {
  "kernelspec": {
   "display_name": "Python 3",
   "language": "python",
   "name": "python3"
  },
  "language_info": {
   "codemirror_mode": {
    "name": "ipython",
    "version": 3
   },
   "file_extension": ".py",
   "mimetype": "text/x-python",
   "name": "python",
   "nbconvert_exporter": "python",
   "pygments_lexer": "ipython3",
   "version": "3.6.8"
  }
 },
 "nbformat": 4,
 "nbformat_minor": 2
}
